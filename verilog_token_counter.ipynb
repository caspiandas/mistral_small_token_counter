{
 "cells": [
  {
   "cell_type": "code",
   "execution_count": 3,
   "id": "be379939",
   "metadata": {},
   "outputs": [],
   "source": [
    "import pandas as pd\n",
    "from mistral_common.tokens.tokenizers.mistral import MistralTokenizer\n",
    "from mistral_common.protocol.instruct.messages import UserMessage\n",
    "from mistral_common.protocol.instruct.request import ChatCompletionRequest"
   ]
  },
  {
   "cell_type": "code",
   "execution_count": 4,
   "id": "28ed6a1f",
   "metadata": {},
   "outputs": [],
   "source": [
    "def count_tokens(file_content):\n",
    "    \"\"\"Count tokens in the given file content using Mistral v3 tokenizer\"\"\"\n",
    "    tokenizer = MistralTokenizer.v3()\n",
    "    \n",
    "    # Create a chat completion request with the file content as a user message\n",
    "    chat_request = ChatCompletionRequest(\n",
    "        messages=[UserMessage(content=file_content)],\n",
    "        model=\"test\"  # Required parameter but not used for tokenization\n",
    "    )\n",
    "    \n",
    "    # Encode the chat completion request\n",
    "    tokenized = tokenizer.encode_chat_completion(chat_request)\n",
    "    return len(tokenized.tokens)\n",
    "\n"
   ]
  },
  {
   "cell_type": "code",
   "execution_count": 11,
   "id": "228a8a8e",
   "metadata": {},
   "outputs": [],
   "source": [
    "def main(file_path):\n",
    "    # file_path = input(\"Enter the path to the Verilog file: \")\n",
    "    # Convert Windows file path to Python-supported one\n",
    "    # file_path = file_path.replace(\"\\\\\", \"/\")\n",
    "    try:\n",
    "        with open(file_path, 'r') as file:\n",
    "            file_content = file.read()\n",
    "            token_count = count_tokens(file_content)\n",
    "            print(f\"Token count: {token_count}\")\n",
    "    except Exception as e:\n",
    "        print(f\"Error: {str(e)}\")\n"
   ]
  },
  {
   "cell_type": "code",
   "execution_count": 12,
   "id": "71d068f9",
   "metadata": {},
   "outputs": [
    {
     "name": "stdout",
     "output_type": "stream",
     "text": [
      "Token count: 7853\n"
     ]
    }
   ],
   "source": [
    "main(r\"C:\\Users\\AnamitraDas\\Downloads\\Security_IP_Designs\\Security_IP_Designs\\chacha\\RTL\\chacha_core.v\")"
   ]
  },
  {
   "cell_type": "code",
   "execution_count": null,
   "id": "e60cfdc4",
   "metadata": {},
   "outputs": [],
   "source": []
  }
 ],
 "metadata": {
  "kernelspec": {
   "display_name": "llm",
   "language": "python",
   "name": "python3"
  },
  "language_info": {
   "codemirror_mode": {
    "name": "ipython",
    "version": 3
   },
   "file_extension": ".py",
   "mimetype": "text/x-python",
   "name": "python",
   "nbconvert_exporter": "python",
   "pygments_lexer": "ipython3",
   "version": "3.12.8"
  }
 },
 "nbformat": 4,
 "nbformat_minor": 5
}
